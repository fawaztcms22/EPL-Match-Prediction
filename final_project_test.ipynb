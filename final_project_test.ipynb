{
  "nbformat": 4,
  "nbformat_minor": 0,
  "metadata": {
    "colab": {
      "provenance": []
    },
    "kernelspec": {
      "name": "python3",
      "display_name": "Python 3"
    },
    "language_info": {
      "name": "python"
    }
  },
  "cells": [
    {
      "cell_type": "code",
      "source": [
        "import pandas as pd\n",
        "import matplotlib.pyplot as plt\n",
        "import seaborn as sns\n",
        "from sklearn.model_selection import train_test_split\n",
        "from sklearn.ensemble import RandomForestClassifier\n",
        "from sklearn.metrics import accuracy_score, classification_report, confusion_matrix\n",
        "\n",
        "# Load the dataset from Google Drive\n",
        "file_path = '/content/drive/MyDrive/EPL/EPL 2015-16.csv'\n",
        "df = pd.read_csv(file_path)\n",
        "\n",
        "# Function to preprocess the data and create features from last 5 matches\n",
        "def preprocess_data(df):\n",
        "    # Sort data by date\n",
        "    df['Date'] = pd.to_datetime(df['Date'])\n",
        "    df = df.sort_values(by='Date')\n",
        "\n",
        "    # Initialize lists to store new features\n",
        "    team_stats = []\n",
        "\n",
        "    # Iterate over each row to compute features from last 5 matches\n",
        "    for index, row in df.iterrows():\n",
        "        home_team = row['HomeTeam']\n",
        "        away_team = row['AwayTeam']\n",
        "\n",
        "        home_last_5 = df[(df['HomeTeam'] == home_team) | (df['AwayTeam'] == home_team)].iloc[:index].tail(5)\n",
        "        away_last_5 = df[(df['HomeTeam'] == away_team) | (df['AwayTeam'] == away_team)].iloc[:index].tail(5)\n",
        "\n",
        "        home_stats = {\n",
        "            'team': home_team,\n",
        "            'last_5_FTR': ','.join(home_last_5['FTR']),\n",
        "            'last_5_FTHG': ','.join(home_last_5['FTHG'].astype(str)),\n",
        "            'last_5_FTAG': ','.join(home_last_5['FTAG'].astype(str)),\n",
        "            'next_match_outcome': row['FTR']  # Outcome of the next match\n",
        ""
      ],
      "metadata": {
        "colab": {
          "base_uri": "https://localhost:8080/",
          "height": 110
        },
        "id": "_rGekmc9XQXW",
        "outputId": "726495de-2dc6-465d-efb7-5baaa548d021"
      },
      "execution_count": 1,
      "outputs": [
        {
          "output_type": "error",
          "ename": "SyntaxError",
          "evalue": "incomplete input (<ipython-input-1-1341f866593a>, line 35)",
          "traceback": [
            "\u001b[0;36m  File \u001b[0;32m\"<ipython-input-1-1341f866593a>\"\u001b[0;36m, line \u001b[0;32m35\u001b[0m\n\u001b[0;31m    \u001b[0m\n\u001b[0m    ^\u001b[0m\n\u001b[0;31mSyntaxError\u001b[0m\u001b[0;31m:\u001b[0m incomplete input\n"
          ]
        }
      ]
    }
  ]
}